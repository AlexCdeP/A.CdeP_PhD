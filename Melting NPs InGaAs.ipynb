{
 "cells": [
  {
   "cell_type": "code",
   "execution_count": 1,
   "metadata": {
    "collapsed": true
   },
   "outputs": [],
   "source": [
    "import matplotlib.pyplot as plt\n",
    "%matplotlib inline\n",
    "import nplab.datafile as df\n",
    "import scipy.signal as sig\n",
    "import scipy.constants as const\n",
    "import peakutils\n",
    "import numpy as np\n",
    "import datetime\n",
    "from peakutils.plot import plot as pplot\n",
    "from parula import cm_data\n",
    "from matplotlib.colors import LinearSegmentedColormap \n",
    "from matplotlib.collections import LineCollection\n",
    "import os\n",
    "import Alexsdatafuncs\n",
    "import matplotlib.cm as cm\n",
    "import time"
   ]
  },
  {
   "cell_type": "code",
   "execution_count": 2,
   "metadata": {
    "collapsed": true
   },
   "outputs": [],
   "source": [
    "parula_map = LinearSegmentedColormap.from_list('parula', cm_data)\n",
    "copper_map = LinearSegmentedColormap.from_list('copper', cm_data)\n",
    "\n",
    "Alex_data = Alexsdatafuncs.data_manipulators()\n",
    "Alex_plot = Alexsdatafuncs.plotting_funcs()"
   ]
  },
  {
   "cell_type": "code",
   "execution_count": 3,
   "metadata": {
    "collapsed": true
   },
   "outputs": [],
   "source": [
    "#    \n",
    "def big_for(filelist, start_time, finish_time, max_peaks = 7, wavelength_start = 405, wavelength_end = 1000, \n",
    "            peakfind_start = 401):\n",
    "    \n",
    "    wavelengthvals = filelist[filelist.keys()[0]].attrs['wavelengths']\n",
    "    data_start = (np.abs(wavelengthvals - wavelength_start)).argmin()\n",
    "    data_end = (np.abs(wavelengthvals - wavelength_end)).argmin()\n",
    "    peak_data_start = (np.abs(wavelengthvals - peakfind_start)).argmin()\n",
    "    data_range = data_end - data_start\n",
    "    peak_index_store = []\n",
    "    wavelength_store = []\n",
    "    name_store = []\n",
    "    intensity_store_norm = []\n",
    "    intensity_store = []\n",
    "    peak_wavelengths_store = []\n",
    "    peak_intensities_store = []\n",
    "    min_indexes = []\n",
    "    min_index_store = []\n",
    "    min_wavelengths_store = []\n",
    "    min_intensities_store = []\n",
    "    timestamp_store = []\n",
    "    \n",
    "    #Search for reference spectrum   \n",
    "    try:\n",
    "        for i in range(0, len(filelist)):\n",
    "            try:\n",
    "                ref = filelist[filelist.keys()[i]].attrs['reference']\n",
    "                print \"Reference spectrum taken from spectrum: \" \n",
    "                print filelist.keys()[i]\n",
    "                break\n",
    "            except KeyError:\n",
    "                ref = filelist[filelist.keys()[0]]\n",
    "                pass\n",
    "    except KeyError:\n",
    "        print \"\"\"Coudn't find a stored reference attribute, \\n\n",
    "        find the file containing a reference and paste this into the code\"\"\"\n",
    "        ref = filelist[filelist.keys()[0]]\n",
    "    \n",
    "    back = filelist[filelist.keys()[0]].attrs['background']\n",
    "    x = wavelengthvals\n",
    "\n",
    "    slash_loc = Alex_data.slashfinder(fname)\n",
    "\n",
    "    spectrum_indexes = []\n",
    "    num_peaks_store = []\n",
    "    intensity_initial_peak_store = []\n",
    "    initial_peak_wl_store = []\n",
    "    second_peak_wl_store = []\n",
    "\n",
    "    peak_width_guess = 50\n",
    "    exp_number_of_peaks = 2\n",
    "\n",
    "    no_spectra=-1\n",
    "\n",
    "    for data_set in filelist.values():\n",
    "\n",
    "        current_timestamp =  datetime.datetime.strptime(\n",
    "                data_set.attrs['creation_timestamp'][:19], \"%Y-%m-%dT%H:%M:%S\")\n",
    "\n",
    "        no_spectra += 1\n",
    "\n",
    "        if current_timestamp >= start_time and current_timestamp <= finish_time:\n",
    "\n",
    "            print \"Current spectrum: \" + data_set.name[25:]\n",
    "\n",
    "            spectrum_indexes = np.append(spectrum_indexes, [no_spectra])\n",
    "\n",
    "            y_raw = np.array(data_set.value)\n",
    "            y = (y_raw-back)/(ref-back)\n",
    "\n",
    "            y_red = y[data_start:data_end]\n",
    "            x_red = x[data_start:data_end]\n",
    "\n",
    "            #Use Savitsky-Golay noise filter to remove noise if chosen\n",
    "\n",
    "\n",
    "            y_filtered = sig.savgol_filter(y_red,23,3)\n",
    "            y_filtered_corr = y_filtered - min(y_filtered)\n",
    "            y_norm = (y_filtered_corr/max(y_filtered_corr))\n",
    "            y_red = y_filtered\n",
    "    #         else:\n",
    "    #             y_red = y[data_start:data_end] - min(y[data_start:data_end])\n",
    "    #             y_norm = (y_red/max(y_red))\n",
    "    #             pass\n",
    "\n",
    "            #Set peakfinder to only search above set wavelength value with \n",
    "            #peak_data_start\n",
    "\n",
    "            #Automatically search for the correct threshold leading the code to \n",
    "            #find the defined number of peaks\n",
    "            thresh_guess = 0.5\n",
    "            find_peaks = False\n",
    "            while find_peaks == False and exp_number_of_peaks != 0:\n",
    "                peak_indexes = peakutils.indexes(y_norm[peak_data_start:data_end], \n",
    "                                                 thres = thresh_guess, \n",
    "                                                 min_dist = peak_width_guess*2)\n",
    "                min_indexes = peakutils.indexes(-1*y_norm[peak_data_start:data_end], \n",
    "                                                 thres = thresh_guess, \n",
    "                                                 min_dist = peak_width_guess*2)\n",
    "                if len(peak_indexes) >= exp_number_of_peaks:\n",
    "                    find_peaks = True\n",
    "                elif thresh_guess <=0.01:\n",
    "                    while find_peaks == False:\n",
    "                        peak_indexes = peakutils.indexes(y_norm[peak_data_start:data_end], \n",
    "                                                         thres = thresh_guess, \n",
    "                                                         min_dist = peak_width_guess*2)\n",
    "                        min_indexes = peakutils.indexes(-1*y_norm[peak_data_start:data_end], \n",
    "                                                 thres = thresh_guess, \n",
    "                                                 min_dist = peak_width_guess*2)\n",
    "                        if len(peak_indexes) >= exp_number_of_peaks:\n",
    "                            find_peaks = True\n",
    "                        elif thresh_guess > 1:\n",
    "                            print \"Didn't find threshold for spectrum\" + str(no_spectra)\n",
    "                            print \"Need to change expected number or peaks\"\n",
    "                            thresh_guess = 0.5\n",
    "                            break\n",
    "                        else:\n",
    "                            thresh_guess += 0.01\n",
    "                    break\n",
    "                else:\n",
    "                    thresh_guess -= 0.01\n",
    "\n",
    "            peak_indexes = peak_indexes + peak_data_start\n",
    "            min_indexes = min_indexes + peak_data_start\n",
    "            peak_indexes_orig = peak_indexes\n",
    "            num_peaks = len(peak_indexes_orig)\n",
    "            \n",
    "            #Crop and add points to minima peaks\n",
    "            if len(min_indexes) > max_peaks:\n",
    "                while len(min_indexes) > max_peaks:\n",
    "                    min_indexes = np.delete(min_indexes,[max_peaks])\n",
    "            elif len(min_indexes) < max_peaks:\n",
    "                while len(min_indexes) < max_peaks:\n",
    "                    min_indexes = np.append(min_indexes,[0])\n",
    "            else:\n",
    "                pass\n",
    "            \n",
    "            #Crop and add 0 to peaks\n",
    "            if len(peak_indexes) > max_peaks:\n",
    "                while len(peak_indexes) > max_peaks:\n",
    "                    peak_indexes = np.delete(peak_indexes,[max_peaks])\n",
    "            elif len(peak_indexes) < max_peaks:\n",
    "                while len(peak_indexes) < max_peaks:\n",
    "                    peak_indexes = np.append(peak_indexes,[0])\n",
    "            else:\n",
    "                pass\n",
    "\n",
    "            peak_wavelengths = []\n",
    "            min_wavelengths = []\n",
    "            peak_intensities = []\n",
    "            min_intensities = []\n",
    "            for i in range(0,max_peaks):\n",
    "                if peak_indexes[i] != 0:\n",
    "                    peak_wavelengths = np.append(peak_wavelengths, \n",
    "                                                 [x_red[peak_indexes[i]]])\n",
    "                else:\n",
    "                    peak_wavelengths = np.append(peak_wavelengths, [0])\n",
    "                    \n",
    "                if peak_indexes[i] != 0:\n",
    "                    peak_intensities = np.append(peak_intensities, \n",
    "                                                 [y_norm[peak_indexes[i]]])\n",
    "                else:\n",
    "                    peak_intensities = np.append(peak_intensities, [0])\n",
    "                    \n",
    "                if min_indexes[i] != 0:\n",
    "                    min_wavelengths = np.append(min_wavelengths, \n",
    "                                                 [x_red[min_indexes[i]]])\n",
    "                else:\n",
    "                    min_wavelengths = np.append(min_wavelengths, [0])\n",
    "                    \n",
    "                if min_indexes[i] != 0:\n",
    "                    min_intensities = np.append(min_intensities, \n",
    "                                                 [y_norm[min_indexes[i]]])\n",
    "                else:\n",
    "                    min_intensities = np.append(min_intensities, [0])\n",
    "\n",
    "    \n",
    "                \n",
    "\n",
    "            #Gaussian fitting    \n",
    "\n",
    "    #         try:\n",
    "    #             multi_gauss_fit_a = Alex_data.gaussian_fit_2(y_norm, x_red, \n",
    "    #                                                          peak_indexes_orig, \n",
    "    #                                                          peak_intensities)\n",
    "    #         except UnboundLocalError:\n",
    "    #             print \"Gauss fit didnt work for spectrum\" + str(no_spectra) \n",
    "    #             pass\n",
    "    #         else:\n",
    "    #             pass\n",
    "\n",
    "            wavelength_store.append(x_red)\n",
    "            name_store.append(data_set.name[25:])\n",
    "            intensity_store.append(y_red)\n",
    "            intensity_store_norm.append(y_norm)\n",
    "            peak_index_store.append(peak_indexes)\n",
    "            min_index_store.append(min_indexes)\n",
    "            peak_wavelengths_store.append(peak_wavelengths)\n",
    "            peak_intensities_store.append(peak_intensities)\n",
    "            min_wavelengths_store.append(min_wavelengths)\n",
    "            min_intensities_store.append(min_intensities)\n",
    "            num_peaks_store = np.append(num_peaks_store, num_peaks)\n",
    "            intensity_initial_peak_store = np.append(intensity_initial_peak_store, \n",
    "                                                     peak_intensities[0])\n",
    "            initial_peak_wl_store = np.append(initial_peak_wl_store,peak_wavelengths[0])\n",
    "            second_peak_wl_store = np.append(second_peak_wl_store, peak_wavelengths[1])\n",
    "            timestamp_store.append(current_timestamp)\n",
    "\n",
    "        else:\n",
    "            pass\n",
    "        \n",
    "    wavelength_store = np.array(wavelength_store)        \n",
    "    intensity_store = np.array(intensity_store)\n",
    "    name_store = np.array(name_store)\n",
    "    intensity_store_norm = np.array(intensity_store_norm)\n",
    "    peak_index_store = np.array(peak_index_store)\n",
    "    min_index_store = np.array(min_index_store)\n",
    "    min_wavelengths_store = np.array(min_wavelengths_store)\n",
    "    min_intensities_store = np.array(min_intensities_store)\n",
    "    peak_wavelengths_store = np.array(peak_wavelengths_store)\n",
    "    peak_intensities_store = np.array(peak_intensities_store)\n",
    "    num_peaks_store = np.array(num_peaks_store)\n",
    "    intensity_initial_peak_store = np.array(intensity_initial_peak_store)\n",
    "    initial_peak_wl_store = np.array(initial_peak_wl_store)\n",
    "    second_peak_wl_store = np.array(second_peak_wl_store)\n",
    "    timestamp_store = np.array(timestamp_store)\n",
    "    \n",
    "    \n",
    "    return wavelength_store, intensity_store, name_store, intensity_store_norm, peak_index_store, peak_wavelengths_store,peak_intensities_store, num_peaks_store, intensity_initial_peak_store,initial_peak_wl_store, second_peak_wl_store, min_index_store, min_wavelengths_store, min_intensities_store, timestamp_store  \n"
   ]
  },
  {
   "cell_type": "code",
   "execution_count": 4,
   "metadata": {
    "collapsed": true
   },
   "outputs": [],
   "source": [
    "#Calculate useful values\n",
    "def val_calc(num_peaks_store, second_peak_wl_store, initial_peak_wl_store, wavelength_store, \n",
    "             intensity_initial_peak_store, intensity_store_norm, intensity_store, av_init_peak_pos = 660):\n",
    "    av_num_peaks = np.mean(num_peaks_store)\n",
    "    av_second_peak_pos = np.mean(second_peak_wl_store)\n",
    "    av_init_peak_pos_stddev = np.std(initial_peak_wl_store)\n",
    "    av_second_peak_pos_stdev = np.std(second_peak_wl_store)\n",
    "    av_init_peak_pos = 660\n",
    "\n",
    "    init_peak = []\n",
    "    second_peak = []\n",
    "    for i in range(0, len(initial_peak_wl_store)): \n",
    "        if initial_peak_wl_store[i] < (av_init_peak_pos + av_init_peak_pos_stddev):\n",
    "            init_peak = np.append(init_peak, initial_peak_wl_store[i])\n",
    "        else:\n",
    "            pass\n",
    "    av_init_peak = np.mean(init_peak)\n",
    "    for i in range(0, len(second_peak_wl_store)): \n",
    "        if initial_peak_wl_store[i] < (av_second_peak_pos + av_second_peak_pos_stdev):\n",
    "            second_peak = np.append(second_peak, second_peak_wl_store[i])\n",
    "        else:\n",
    "            pass\n",
    "    # if answers[6] == True:    \n",
    "    #     ax1.plot([av_init_peak]*len(np.linspace(64,70)), np.linspace(64,70),'r--')\n",
    "    #     ax1.plot([av_second_peak_pos]*len(np.linspace(64,70)), np.linspace(64,70),'r--')\n",
    "    # else:\n",
    "    #     pass\n",
    "\n",
    "    av_init_peak_intensities = np.mean(intensity_initial_peak_store)\n",
    "    average_all_intensities_norm = np.mean(intensity_store_norm, axis=0)\n",
    "    average_all_intensities = np.mean(intensity_store, axis=0)\n",
    "    av_stddev_norm = (np.std((intensity_store_norm), axis=0, dtype = np.float64))/np.sqrt(len(wavelength_store))\n",
    "    av_stddev = np.std((intensity_store), axis=0, dtype = np.float64)/np.sqrt(len(wavelength_store))\n",
    "\n",
    "\n",
    "    min_peak_pos_av = wavelength_store[0][np.argmin(average_all_intensities_norm)]\n",
    "\n",
    "    return av_init_peak_intensities, average_all_intensities_norm, average_all_intensities, av_stddev_norm, av_stddev, min_peak_pos_av"
   ]
  },
  {
   "cell_type": "code",
   "execution_count": 5,
   "metadata": {
    "collapsed": true
   },
   "outputs": [],
   "source": [
    "def sort_by_timestamps(all_intensities, timestamp_store):\n",
    "    sorting_array = []\n",
    "    for i in range(len(timestamp_store)):\n",
    "        sort_val = 10000*timestamp_store[i].year + 100*timestamp_store[i].month + timestamp_store[i].day\n",
    "        join_values = np.concatenate(all_intensities[i], sort_val)\n",
    "        sorting_array.append(join_values)\n",
    "        \n",
    "    sorted_array = sorted(sorting_array, key=lambda x: x[len(all_intensities[0])-1])\n",
    "    sorted_array = np.array(sorted_array)\n",
    "    return sorted_array"
   ]
  },
  {
   "cell_type": "code",
   "execution_count": 27,
   "metadata": {
    "collapsed": true
   },
   "outputs": [],
   "source": [
    "data_f.close()"
   ]
  },
  {
   "cell_type": "code",
   "execution_count": 6,
   "metadata": {},
   "outputs": [
    {
     "name": "stdout",
     "output_type": "stream",
     "text": [
      "No current data file, attempting to create...\n",
      "C:/Users/alexc/OneDrive - University Of Cambridge/Documents/PhD Project/Projects/GaAs_InGaAs SC/2018-05-31-sample 531 100nm PL measurements.h5\n",
      "opening file:  C:/Users/alexc/OneDrive - University Of Cambridge/Documents/PhD Project/Projects/GaAs_InGaAs SC/2018-05-31-sample 531 100nm PL measurements.h5\n"
     ]
    }
   ],
   "source": [
    "data_f = df.current()\n",
    "fname = data_f.filename"
   ]
  },
  {
   "cell_type": "code",
   "execution_count": 7,
   "metadata": {
    "collapsed": true
   },
   "outputs": [],
   "source": [
    "filelist_DF = data_f['OceanOpticsSpectrometer']\n",
    "camlist_bF = data_f['LumeneraCamera']"
   ]
  },
  {
   "cell_type": "code",
   "execution_count": 8,
   "metadata": {},
   "outputs": [],
   "source": [
    "#Select range of times data taken\n",
    "start_time_NP1 = datetime.datetime.strptime('2018-05-31T13:58:00.179000', \n",
    "                                        \"%Y-%m-%dT%H:%M:%S.%f\")\n",
    "finish_time_NP1 = datetime.datetime.strptime('2018-05-31T15:55:52.543000', \n",
    "                                        \"%Y-%m-%dT%H:%M:%S.%f\")"
   ]
  },
  {
   "cell_type": "code",
   "execution_count": 9,
   "metadata": {},
   "outputs": [
    {
     "name": "stdout",
     "output_type": "stream",
     "text": [
      "Reference spectrum taken from spectrum: \n",
      "Defect_1_0\n",
      "Current spectrum: InGaAs 1nm 100nm NP 1_0mW_0\n"
     ]
    },
    {
     "name": "stderr",
     "output_type": "stream",
     "text": [
      "C:\\Users\\alexc\\Anaconda2\\lib\\site-packages\\ipykernel_launcher.py:69: RuntimeWarning: divide by zero encountered in divide\n"
     ]
    },
    {
     "name": "stdout",
     "output_type": "stream",
     "text": [
      "Current spectrum: InGaAs 1nm 100nm NP 1_1mW_0\n",
      "Current spectrum: InGaAs 1nm 100nm NP 1_2mW_0\n",
      "Current spectrum: InGaAs 1nm 100nm NP 1_30mW_0\n",
      "Current spectrum: InGaAs 1nm 100nm NP 1_3mW_0\n",
      "Current spectrum: InGaAs 1nm 100nm NP 1_9mW_0\n"
     ]
    }
   ],
   "source": [
    "wavelength_store_NP1, intensity_store_NP1, name_store_NP1, intensity_store_norm_NP1, \\\n",
    "peak_index_store_NP1, peak_wavelengths_store_NP1, peak_intensities_store_NP1, num_peaks_store_NP1,\\\n",
    "intensity_initial_peak_store_NP1, initial_peak_wl_store_NP1,\\\n",
    "second_peak_wl_store_NP1, min_indexes_store_NP1, \\\n",
    "min_wavelengths_store_NP1, min_intensities_store_NP1, timestamp_store_NP1 = big_for(filelist = filelist_DF, start_time = start_time_NP1, finish_time = finish_time_NP1, max_peaks = 7, \n",
    "          wavelength_start = 405,wavelength_end = 1000, peakfind_start = 401)"
   ]
  },
  {
   "cell_type": "code",
   "execution_count": 10,
   "metadata": {},
   "outputs": [],
   "source": [
    "sorted_timestamps_NP1 = sort_by_timestamps(intensity_store_norm_NP1, timestamp_store_NP1)"
   ]
  },
  {
   "cell_type": "code",
   "execution_count": 24,
   "metadata": {
    "collapsed": true
   },
   "outputs": [],
   "source": [
    "sorting_array = []\n",
    "for i in range(len(timestamp_store_NP1)):\n",
    "    sort_val = 10000*timestamp_store_NP1[i].year + 100*timestamp_store_NP1[i].month + timestamp_store_NP1[i].day\n",
    "    join_values = np.concatenate(intensity_store_norm_NP1[i], sort_val)\n",
    "    sorting_array.append(join_values)\n",
    "\n",
    "sorted_array = sorted(sorting_array, key=lambda x: x[len(intensity_store_norm_NP1[0])-1])\n",
    "sorted_array = np.array(sorted_array)"
   ]
  },
  {
   "cell_type": "code",
   "execution_count": 11,
   "metadata": {
    "collapsed": true
   },
   "outputs": [],
   "source": [
    "#Average and useful values for 5.8nm TiO2\n",
    "av_init_peak_intensities_NP1, average_all_intensities_norm_NP1, \\\n",
    "average_all_intensities_NP1, av_stddev_norm_NP1, av_stddev_NP1, \\\n",
    "min_peak_pos_av_NP1 = val_calc(num_peaks_store = num_peaks_store_NP1, \n",
    "                             second_peak_wl_store = second_peak_wl_store_NP1, \n",
    "                             initial_peak_wl_store = initial_peak_wl_store_NP1, \n",
    "                             intensity_initial_peak_store = intensity_initial_peak_store_NP1,  \n",
    "                             wavelength_store = wavelength_store_NP1, \n",
    "                             intensity_store_norm = intensity_store_norm_NP1,\n",
    "                             intensity_store = intensity_store_NP1, av_init_peak_pos = 660)"
   ]
  },
  {
   "cell_type": "code",
   "execution_count": 19,
   "metadata": {},
   "outputs": [],
   "source": [
    "\n",
    "\n",
    "sorted_norm_NP1 = Alex_data.sort_coupled_modes(intensity_store_norm_NP1, \n",
    "                                            peak_wavelengths_store_NP1)\n",
    "\n",
    "\n",
    "\n",
    "sorted_peak_wls_NP1 = []\n",
    "for i in range(0, len(sorted_timestamps_NP1)):\n",
    "    sorted_peak_wls_NP1.append(sorted_timestamps_NP1[i][len(intensity_store_norm_NP1[0]):])\n",
    "sorted_peak_wls_NP1 = np.array(sorted_peak_wls_NP1[:-1])\n",
    "\n",
    "while len(sorted_timestamps_NP1[1]) > len(wavelength_store_NP1[0]):\n",
    "    sorted_timestamps_NP1 = np.delete(sorted_timestamps_NP1, [len(wavelength_store_NP1[0])], 1)\n",
    "    \n",
    "#while len(sorted_pk_intensities_NP1[1]) > len(peak_index_store_NP1[0]):    \n",
    "#    sorted_pk_intensities_NP1 = np.delete(sorted_pk_intensities_NP1, [len(peak_index_store_NP1[0])], 1) \n",
    "    \n",
    "#Use function to add offset between each spectrum\n",
    "sorted_timestamps_offset_NP1 = Alex_plot.offset_spectra(sorted_timestamps_NP1)\n",
    "#sorted_pks_offset_NP1 = Alex_plot.offset_spectra(sorted_pk_intensities_NP1)"
   ]
  },
  {
   "cell_type": "code",
   "execution_count": 23,
   "metadata": {},
   "outputs": [
    {
     "data": {
      "text/plain": [
       "Text(0,0.5,u'Spectrum_no + Intensity (A.U)')"
      ]
     },
     "execution_count": 23,
     "metadata": {},
     "output_type": "execute_result"
    },
    {
     "data": {
      "image/png": "[encoded data removed]",
      "text/plain": [
       "<matplotlib.figure.Figure at 0x1cea5390>"
      ]
     },
     "metadata": {},
     "output_type": "display_data"
    }
   ],
   "source": [
    "fig3 = plt.figure(3, figsize = (10,1*len(sorted_timestamps_offset_NP1)))\n",
    "ax7 = fig3.add_subplot(111)\n",
    "#ax10 = ax8.twiny()\n",
    "#ax10.set_xlim(ax6.get_xlim())\n",
    "#ax10.set_xticks(new_tick_locations)\n",
    "#ax10.set_xticklabels(Alex_plot.energy_ticks(new_tick_locations))\n",
    "#ax10.set_xlabel(r\"Energy(eV)\")\n",
    "\n",
    "\n",
    "colours = parula_map(np.linspace(0,1,len(sorted_array_offset_NP1)))\n",
    "for i in range(0, len(sorted_array_offset_NP1)):\n",
    "    lwidths = (sorted_array_offset_NP1[i] - i)*2\n",
    "    points = np.array([wavelength_store_NP1[0], sorted_array_offset_NP1[i]]).T.reshape(-1, 1, 2)\n",
    "    segments = np.concatenate([points[:-1], points[1:]], axis = 1)\n",
    "    lc_2 = LineCollection(segments, linewidths = lwidths, color = colours[i])\n",
    "    ax7.add_collection(lc_2)\n",
    "    spec1 = np.array(sorted_array_offset_NP1[i], dtype = float)\n",
    "    spec2 = np.array(len(sorted_array_offset_NP1[i])*[i], dtype = float)\n",
    "    ax7.fill_between(wavelength_store_NP1[0], spec1, spec2, color = \"green\", \n",
    "                alpha = 0.2, zorder = 3)\n",
    "    #ax7.scatter(sorted_peak_wls_NP1[i], np.full((1,7), sorted_pks_offset_NP1[i]))\n",
    "\n",
    "\n",
    "ax7.set_ylim(0, len(sorted_timestamps_offset_NP1)+0.5)\n",
    "ax7.set_xlim(405, 1000)\n",
    "ax7.set_xlabel(\"Wavelength (nm)\")\n",
    "ax7.set_ylabel(\"Spectrum_no + Intensity (A.U)\")"
   ]
  },
  {
   "cell_type": "code",
   "execution_count": null,
   "metadata": {
    "collapsed": true
   },
   "outputs": [],
   "source": []
  },
  {
   "cell_type": "code",
   "execution_count": null,
   "metadata": {
    "collapsed": true
   },
   "outputs": [],
   "source": []
  }
 ],
 "metadata": {
  "kernelspec": {
   "display_name": "Python 2",
   "language": "python",
   "name": "python2"
  },
  "language_info": {
   "codemirror_mode": {
    "name": "ipython",
    "version": 2
   },
   "file_extension": ".py",
   "mimetype": "text/x-python",
   "name": "python",
   "nbconvert_exporter": "python",
   "pygments_lexer": "ipython2",
   "version": "2.7.14"
  }
 },
 "nbformat": 4,
 "nbformat_minor": 2
}
